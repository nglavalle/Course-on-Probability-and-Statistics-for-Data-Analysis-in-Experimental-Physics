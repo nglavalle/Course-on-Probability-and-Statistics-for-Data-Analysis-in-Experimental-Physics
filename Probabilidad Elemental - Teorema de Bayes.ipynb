{
 "cells": [
  {
   "cell_type": "markdown",
   "id": "787b514d",
   "metadata": {},
   "source": [
    "### Determine la probabilidad que cualquiera de los 20 alumnos de la materia tengan el mismo día de cumpleaños que el docente "
   ]
  },
  {
   "cell_type": "code",
   "execution_count": 5,
   "id": "e3efe336",
   "metadata": {},
   "outputs": [
    {
     "name": "stdout",
     "output_type": "stream",
     "text": [
      "La probabilidad de que en un grupo de  21 personas, dos cumplan años el mismo día es de   0.054795\n"
     ]
    }
   ],
   "source": [
    "p = 1.0\n",
    "i=21\n",
    "p = p * (366 - i) / 365\n",
    "print ('La probabilidad de que en un grupo de %3d personas, dos cumplan años el mismo día es de %10.6f' % (i, 1-p))"
   ]
  },
  {
   "cell_type": "code",
   "execution_count": 6,
   "id": "4510953c",
   "metadata": {},
   "outputs": [],
   "source": [
    "# Si quiero conocer todas las probabilidades según en el numero de personas tomando de cero a 100\n",
    "\n",
    "p = 1.0\n",
    "for i in range(1, 100):\n",
    "    p = p * (366 - i) / 365\n",
    "    print ('La probabilidad de que en un grupo de %3d personas, dos cumplan años el mismo día es de %10.6f' % (i, 1-p))\n",
    "\n",
    "\n",
    "\n"
   ]
  },
  {
   "cell_type": "code",
   "execution_count": 8,
   "id": "f76378d8",
   "metadata": {},
   "outputs": [
    {
     "name": "stdout",
     "output_type": "stream",
     "text": [
      "La probabilidad de que en un grupo de  21 alumnos, alguno cumplan años el mismo día que el docente es   0.055985\n"
     ]
    }
   ],
   "source": [
    "j=21\n",
    "pf = (364/365)**j\n",
    "print ('La probabilidad de que en un grupo de %3d alumnos, alguno cumplan años el mismo día que el docente es %10.6f' % (j, 1-pf))\n"
   ]
  },
  {
   "cell_type": "code",
   "execution_count": null,
   "id": "800f2cdb",
   "metadata": {},
   "outputs": [],
   "source": [
    "# Si quiero conocer todas las probabilidades según en el numero de personas tomando de cero a 100\n",
    "for j in range(1, 100):\n",
    "    pf = (364/365)**j\n",
    "    print ('La probabilidad de que en un grupo de %3d alumnos, alguno cumplan años el mismo día que el docente es %10.6f' % (j, 1-pf))\n"
   ]
  },
  {
   "cell_type": "markdown",
   "id": "11479cc7",
   "metadata": {},
   "source": [
    "### Distintos pasos para generar, normalizar y trabajar con histogramas"
   ]
  },
  {
   "cell_type": "code",
   "execution_count": 10,
   "id": "02537493",
   "metadata": {},
   "outputs": [
    {
     "data": {
      "image/png": "[encoded data removed]",
      "text/plain": [
       "<Figure size 432x288 with 1 Axes>"
      ]
     },
     "metadata": {
      "needs_background": "light"
     },
     "output_type": "display_data"
    },
    {
     "data": {
      "text/plain": [
       "<Figure size 432x288 with 0 Axes>"
      ]
     },
     "metadata": {},
     "output_type": "display_data"
    }
   ],
   "source": [
    "# Simple Monte Carlo program to make histogram of uniformly distributed random values and plot\n",
    "# G. Cowan, RHUL Physics\n",
    "\n",
    "import matplotlib\n",
    "import matplotlib.pyplot as plt\n",
    "import numpy as np\n",
    "\n",
    "# Generate data and store in numpy array, put into histogram\n",
    "\n",
    "numVal = 10000\n",
    "nBins = 100\n",
    "xMin = 0.\n",
    "xMax = 1.\n",
    "xData = np.random.uniform(xMin, xMax, numVal)\n",
    "xHist, bin_edges = np.histogram(xData, bins=nBins, range=(xMin, xMax))\n",
    "\n",
    "# Make plot and save in file\n",
    "\n",
    "binLo, binHi = bin_edges[:-1], bin_edges[1:]\n",
    "xPlot = np.array([binLo, binHi]).T.flatten()\n",
    "yPlot = np.array([xHist, xHist]).T.flatten()\n",
    "fig, ax = plt.subplots(1,1)\n",
    "plt.gcf().subplots_adjust(bottom=0.15)\n",
    "plt.gcf().subplots_adjust(left=0.15)\n",
    "ax.set_xlim((xMin, xMax))\n",
    "ax.set_ylim((0., 150))\n",
    "plt.xlabel(r'$x$', labelpad=0)\n",
    "plt.plot(xPlot, yPlot)\n",
    "plt.show()\n",
    "plt.savefig(\"uniformHist.png\", format='png')\n"
   ]
  },
  {
   "cell_type": "code",
   "execution_count": 9,
   "id": "2a35015c",
   "metadata": {},
   "outputs": [
    {
     "data": {
      "image/png": "[encoded data removed]",
      "text/plain": [
       "<Figure size 1152x288 with 3 Axes>"
      ]
     },
     "metadata": {
      "needs_background": "light"
     },
     "output_type": "display_data"
    },
    {
     "data": {
      "image/png": "[encoded data removed]",
      "text/plain": [
       "<Figure size 1152x288 with 3 Axes>"
      ]
     },
     "metadata": {
      "needs_background": "light"
     },
     "output_type": "display_data"
    }
   ],
   "source": [
    "#http://users.df.uba.ar/maurosilber/incertezas/histogramas.html\n",
    "import numpy as np\n",
    "from scipy.stats import poisson\n",
    "from matplotlib import pyplot as plt\n",
    "#matplotlib inline\n",
    "\n",
    "np.random.seed(42) # Para obtener la misma secuencia de numeros aleatorios\n",
    "X = poisson(mu=4.5) # Defino una variable aleatoria con distribucion de Poisson de parametro 4.5\n",
    "Xi = X.rvs(size=1000) # Genero 1000 numeros de la variable aleatoria\n",
    "\n",
    "Y, bins = np.histogram(Xi, bins=np.arange(0, Xi.max())) # Genero el histograma\n",
    "\n",
    "f, ax = plt.subplots(ncols=3, figsize=(16,4), sharey=True)\n",
    "f.subplots_adjust(wspace=0.05)\n",
    "\n",
    "ax[0].bar(bins[:-1], Y, width=1, ec='k') # Grafico el histograma (grafico de barras)\n",
    "ax[1].bar(bins[:-1], Y, width=0.5, ec='k')\n",
    "ax[2].stem(bins[:-1], Y, basefmt=' ', use_line_collection=True) # Stem-plot\n",
    "\n",
    "for k, a in enumerate(ax, 1):\n",
    "    a.set_title(k, loc='left', fontsize=20)\n",
    "\n",
    "plt.show()\n",
    "\n",
    "#Normalizacion\n",
    "Y_normed = Y / np.sum(Y)\n",
    "\n",
    "f, ax = plt.subplots(ncols=3, figsize=(16,4), sharey=True)\n",
    "f.subplots_adjust(wspace=0.05)\n",
    "\n",
    "ax[0].bar(bins[:-1], Y_normed, width=1, ec='k')\n",
    "ax[1].bar(bins[:-1], Y_normed, width=0.5, ec='k')\n",
    "ax[2].stem(bins[:-1], Y_normed, basefmt=' ', use_line_collection=True)\n",
    "\n",
    "\n",
    "for k, a in enumerate(ax, 1):\n",
    "    a.scatter(bins[:-1], X.pmf(bins[:-1]), color='red', zorder=3)\n",
    "    a.set_title(k, loc='left', fontsize=20)\n",
    "\n",
    "plt.show()"
   ]
  },
  {
   "cell_type": "markdown",
   "id": "a86458dd",
   "metadata": {},
   "source": [
    "### Juege a tirar un dado"
   ]
  },
  {
   "cell_type": "code",
   "execution_count": 16,
   "id": "1bfcd000",
   "metadata": {},
   "outputs": [
    {
     "data": {
      "image/png": "[encoded data removed]",
      "text/plain": [
       "<Figure size 432x288 with 1 Axes>"
      ]
     },
     "metadata": {
      "needs_background": "light"
     },
     "output_type": "display_data"
    }
   ],
   "source": [
    "#I created an array filled with 0 with the Numpy function zeros().\n",
    "#(from https://hadrienj.github.io/posts/Probability-Mass-and-Density-Functions/)\n",
    "#At each throw, I chose a value among the 6 possibilities.\n",
    "#Then, I used the Numpy function unique() with the parameter return_counts set to True to get the number of each possible outcome.\n",
    "#I plotted the proportion for each possible value.\n",
    "\n",
    "import numpy as np\n",
    "import matplotlib.pyplot as plt\n",
    "\n",
    "num_throws = 10\n",
    "outcomes = np.zeros(num_throws)\n",
    "for i in range(num_throws):\n",
    "   # let's roll the dice\n",
    "   outcome = np.random.choice(['1', '2', '3', '4', '5', '6'])\n",
    "   outcomes[i] = outcome\n",
    "\n",
    "val, cnt = np.unique(outcomes, return_counts=True)\n",
    "prop = cnt / len(outcomes)\n",
    "\n",
    "# Now that we have rolled our dice several times, let's plot the results\n",
    "plt.bar(val, prop)\n",
    "plt.ylabel(\"Probability\")\n",
    "plt.xlabel(\"Outcome\")\n",
    "plt.show()\n",
    "plt.close()\n"
   ]
  },
  {
   "cell_type": "code",
   "execution_count": null,
   "id": "f85f320f",
   "metadata": {},
   "outputs": [],
   "source": []
  }
 ],
 "metadata": {
  "kernelspec": {
   "display_name": "Python 3 (ipykernel)",
   "language": "python",
   "name": "python3"
  },
  "language_info": {
   "codemirror_mode": {
    "name": "ipython",
    "version": 3
   },
   "file_extension": ".py",
   "mimetype": "text/x-python",
   "name": "python",
   "nbconvert_exporter": "python",
   "pygments_lexer": "ipython3",
   "version": "3.9.7"
  }
 },
 "nbformat": 4,
 "nbformat_minor": 5
}
