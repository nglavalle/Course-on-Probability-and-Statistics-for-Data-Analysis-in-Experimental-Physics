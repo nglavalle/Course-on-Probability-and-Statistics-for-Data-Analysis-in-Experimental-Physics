{
 "cells": [
  {
   "cell_type": "markdown",
   "id": "ae84ab72",
   "metadata": {},
   "source": [
    "### Se lanza un dado con posibles resultados x 1, 2, 3, 4, 5, 6. Determinar el valor esperado de x, la varianza y skewness de la distribución, para un dado ideal simétrico y para un dado con P1=P4=1/6, P2=P3=1/12, P5=P6=3/12."
   ]
  },
  {
   "cell_type": "code",
   "execution_count": 5,
   "id": "affbfb4e",
   "metadata": {},
   "outputs": [
    {
     "name": "stdout",
     "output_type": "stream",
     "text": [
      "Valores del dado: [1 2 3 4 5 6]\n",
      "Valor esperado (dado ideal): 3.5\n",
      "Varianza (dado ideal): 2.9166666666666665\n",
      "Skewness (asimetría, dado ideal): 0\n",
      "Probabilidades ajustadas: [0.16666667 0.08333333 0.08333333 0.16666667 0.25       0.25      ]\n",
      "Valor esperado (dado ajustado): 4.0\n",
      "Varianza (dado ajustado): 3.1666666666666665\n",
      "Skewness (asimetría, dado ajustado): -0.5323750928990683\n"
     ]
    }
   ],
   "source": [
    "from numpy import array\n",
    "from numpy import mean\n",
    "from numpy import var\n",
    "from numpy import std\n",
    "from scipy.stats import skew\n",
    "\n",
    "\n",
    "# Valores posibles al lanzar un dado\n",
    "v = array([1, 2, 3, 4, 5, 6])  \n",
    "print(\"Valores del dado:\", v)\n",
    "\n",
    "# --- Cálculos para un dado ideal (simétrico) ---\n",
    "\n",
    "# Valor esperado para el dado ideal\n",
    "result_e = mean(v)  \n",
    "print(\"Valor esperado (dado ideal):\", result_e)\n",
    "\n",
    "# Varianza para el dado ideal\n",
    "result_v = var(v)  \n",
    "print(\"Varianza (dado ideal):\", result_v)\n",
    "\n",
    "# Asimetría (skewness) para el dado ideal (0 porque es simétrico)\n",
    "result_s = 0  \n",
    "print(\"Skewness (asimetría, dado ideal):\", result_s)\n",
    "\n",
    "# --- Cálculos para un dado con probabilidades ajustadas ---\n",
    "\n",
    "# Probabilidades ajustadas para cada cara del dado\n",
    "p = array([1/6, 1/12, 1/12, 1/6, 3/12, 3/12])  \n",
    "print(\"Probabilidades ajustadas:\", p)\n",
    "\n",
    "# Inicializamos las variables para el valor esperado, varianza y skewness del dado ajustado\n",
    "result_e2 = 0  # Valor esperado\n",
    "result_v2 = 0  # Varianza\n",
    "result_s2 = 0  # Skewness\n",
    "\n",
    "# Calculamos el valor esperado para el dado ajustado\n",
    "for i in range(len(v)):\n",
    "    result_e2 += v[i] * p[i]  # Multiplicamos cada valor por su probabilidad y lo sumamos\n",
    "print(\"Valor esperado (dado ajustado):\", result_e2)\n",
    "\n",
    "# Calculamos la varianza para el dado ajustado\n",
    "for j in range(len(v)):\n",
    "    result_v2 += pow((v[j] - result_e2), 2) * p[j]  # Fórmula de varianza ponderada\n",
    "print(\"Varianza (dado ajustado):\", result_v2)\n",
    "\n",
    "# Calculamos el skewness ponderado para el dado ajustado\n",
    "for k in range(len(v)):\n",
    "    result_s2 += pow((v[k] - result_e2), 3) * p[k]  # Suma de (x_i - E(X))^3 * P(x_i)\n",
    "result_s2 /= pow(result_v2, 1.5)  # Dividimos por Var(X)^(3/2)\n",
    "print(\"Skewness (asimetría, dado ajustado):\", result_s2)\n"
   ]
  },
  {
   "cell_type": "markdown",
   "id": "64b05ff1",
   "metadata": {},
   "source": [
    "### Covarianza y Correlación de un conjunto de datos"
   ]
  },
  {
   "cell_type": "code",
   "execution_count": 7,
   "id": "12f33e25",
   "metadata": {},
   "outputs": [
    {
     "name": "stdout",
     "output_type": "stream",
     "text": [
      "datos:     A   B   C\n",
      "0  45  38  10\n",
      "1  37  31  15\n",
      "2  42  26  17\n",
      "3  35  28  21\n",
      "4  39  33  12\n",
      "Matriz de correlaión:           A         B         C\n",
      "A  1.000000  0.518457 -0.701886\n",
      "B  0.518457  1.000000 -0.860941\n",
      "C -0.701886 -0.860941  1.000000\n"
     ]
    },
    {
     "data": {
      "image/png": "[encoded data removed]",
      "text/plain": [
       "<Figure size 432x288 with 2 Axes>"
      ]
     },
     "metadata": {
      "needs_background": "light"
     },
     "output_type": "display_data"
    }
   ],
   "source": [
    "\n",
    "# Matriz de correlación\n",
    "\n",
    "import pandas as pd\n",
    "import seaborn as sn\n",
    "import matplotlib.pyplot as plt\n",
    "\n",
    "data = {'A': [45,37,42,35,39],\n",
    "        'B': [38,31,26,28,33],\n",
    "        'C': [10,15,17,21,12]\n",
    "        }\n",
    "\n",
    "df = pd.DataFrame(data,columns=['A','B','C'])\n",
    "print ('datos:',df)\n",
    "\n",
    "corrMatrix = df.corr()\n",
    "print ('Matriz de correlaión:',corrMatrix)\n",
    "\n",
    "sn.heatmap(corrMatrix, annot=True)\n",
    "plt.show()"
   ]
  },
  {
   "cell_type": "code",
   "execution_count": 8,
   "id": "d6ea75bf",
   "metadata": {},
   "outputs": [
    {
     "name": "stdout",
     "output_type": "stream",
     "text": [
      "matriz de covarianza: [[ 15.8    9.6  -12.  ]\n",
      " [  9.6   21.7  -17.25]\n",
      " [-12.   -17.25  18.5 ]]\n"
     ]
    },
    {
     "data": {
      "image/png": "[encoded data removed]",
      "text/plain": [
       "<Figure size 432x288 with 2 Axes>"
      ]
     },
     "metadata": {
      "needs_background": "light"
     },
     "output_type": "display_data"
    }
   ],
   "source": [
    "# Matriz de covarianza\n",
    "\n",
    "\n",
    "#https://datatofish.com/covariance-matrix-python/\n",
    "import numpy as np\n",
    "import seaborn as sn\n",
    "import matplotlib.pyplot as plt\n",
    "\n",
    "A = [45,37,42,35,39]\n",
    "B = [38,31,26,28,33]\n",
    "C = [10,15,17,21,12]\n",
    "\n",
    "data = np.array([A,B,C])\n",
    "\n",
    "covMatrix = np.cov(data,bias=False)\n",
    "print ('matriz de covarianza:',covMatrix)\n",
    "\n",
    "sn.heatmap(covMatrix, annot=True, fmt='g')\n",
    "plt.show()\n",
    "\n",
    "\n",
    "## Pandas only version\n",
    "#import pandas as pd\n",
    "#data = {'A': [45,37,42,35,39],\n",
    "#        'B': [38,31,26,28,33],\n",
    "#        'C': [10,15,17,21,12]\n",
    "#        }\n",
    "#df = pd.DataFrame(data,columns=['A','B','C'])\n",
    "#covMatrix = pd.DataFrame.cov(df)\n",
    "#print (covMatrix)\n"
   ]
  },
  {
   "cell_type": "markdown",
   "id": "77480dc5",
   "metadata": {},
   "source": [
    "### Distribuciones marginales de una distribución de dos variables"
   ]
  },
  {
   "cell_type": "code",
   "execution_count": 5,
   "id": "5ad70f8e",
   "metadata": {},
   "outputs": [
    {
     "name": "stderr",
     "output_type": "stream",
     "text": [
      "C:\\ProgramData\\Anaconda3\\lib\\site-packages\\seaborn\\_decorators.py:36: FutureWarning: Pass the following variables as keyword args: x, y. From version 0.12, the only valid positional argument will be `data`, and passing other arguments without an explicit keyword will result in an error or misinterpretation.\n",
      "  warnings.warn(\n"
     ]
    },
    {
     "data": {
      "image/png": "[encoded data removed]",
      "text/plain": [
       "<Figure size 432x432 with 3 Axes>"
      ]
     },
     "metadata": {},
     "output_type": "display_data"
    }
   ],
   "source": [
    "import numpy as np\n",
    "import seaborn as sns\n",
    "import matplotlib.pyplot as plt\n",
    "import pandas as pd\n",
    "import math\n",
    "\n",
    "sns.set(style=\"darkgrid\")\n",
    "\n",
    "np.random.seed(0)\n",
    "\n",
    "x = np.random.normal(0, 1/math.sqrt(math.pi), 300)\n",
    "\n",
    "y = np.random.exponential(1, 300)\n",
    "\n",
    "g = (sns.jointplot(x, y).set_axis_labels(\"x\", \"y\"))\n",
    "#g = (sns.jointplot(x, y).set_axis_labels(\"x\", \"y\").plot_joint(sns.kdeplot, zorder=0, n_levels=6))\n",
    "\n",
    "plt.show()\n"
   ]
  },
  {
   "cell_type": "code",
   "execution_count": null,
   "id": "4725bc46",
   "metadata": {},
   "outputs": [],
   "source": []
  },
  {
   "cell_type": "code",
   "execution_count": null,
   "id": "a8e2b70e",
   "metadata": {},
   "outputs": [],
   "source": []
  }
 ],
 "metadata": {
  "kernelspec": {
   "display_name": "Python 3 (ipykernel)",
   "language": "python",
   "name": "python3"
  },
  "language_info": {
   "codemirror_mode": {
    "name": "ipython",
    "version": 3
   },
   "file_extension": ".py",
   "mimetype": "text/x-python",
   "name": "python",
   "nbconvert_exporter": "python",
   "pygments_lexer": "ipython3",
   "version": "3.9.7"
  }
 },
 "nbformat": 4,
 "nbformat_minor": 5
}
